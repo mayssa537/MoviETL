{
 "cells": [
  {
   "cell_type": "markdown",
   "metadata": {},
   "source": [
    "# MoviETL by Mayssa and Hamza"
   ]
  },
  {
   "cell_type": "markdown",
   "metadata": {
    "heading_collapsed": true
   },
   "source": [
    "## SQL Alchemy"
   ]
  },
  {
   "cell_type": "code",
   "execution_count": 1,
   "metadata": {
    "hidden": true
   },
   "outputs": [],
   "source": [
    "from sqlalchemy import create_engine\n",
    "import pandas as pd"
   ]
  },
  {
   "cell_type": "code",
   "execution_count": 2,
   "metadata": {
    "hidden": true
   },
   "outputs": [],
   "source": [
    "password = 'asdSA123!'\n",
    "connection = f'root:{password}@127.0.0.1:3306/movie_db'\n",
    "engine = create_engine(f'mysql://{connection}')"
   ]
  },
  {
   "cell_type": "code",
   "execution_count": 3,
   "metadata": {
    "hidden": true
   },
   "outputs": [
    {
     "data": {
      "text/plain": [
       "[]"
      ]
     },
     "execution_count": 3,
     "metadata": {},
     "output_type": "execute_result"
    }
   ],
   "source": [
    "engine.table_names()"
   ]
  },
  {
   "cell_type": "code",
   "execution_count": 4,
   "metadata": {
    "hidden": true
   },
   "outputs": [],
   "source": [
    "movie = pd.read_csv('Resources/movie_new.csv', delimiter = ',', encoding = 'latin-1')\n",
    "actor = pd.read_csv('Resources/cast_new.csv', delimiter = ',', encoding = 'latin-1')\n",
    "genre = pd.read_csv('Resources/genre_new.csv', delimiter = ',', encoding = 'latin-1')\n",
    "finance = pd.read_csv('Resources/finance_new.csv', delimiter = ',', encoding = 'latin-1')\n",
    "ratings = pd.read_csv('Resources/ratings_new.csv', delimiter = ',', encoding = 'latin-1')\n",
    "production = pd.read_csv('Resources/production_new.csv', delimiter = ',', encoding = 'latin-1')"
   ]
  },
  {
   "cell_type": "code",
   "execution_count": 5,
   "metadata": {
    "hidden": true
   },
   "outputs": [],
   "source": [
    "movie.to_sql(name = 'movie', con = engine, if_exists = 'append', index = False)\n",
    "actor.to_sql(name = 'actor', con = engine, if_exists = 'append', index = False)\n",
    "genre.to_sql(name = 'genre', con = engine, if_exists = 'append', index = False)\n",
    "finance.to_sql(name = 'finance', con = engine, if_exists = 'append', index = False)\n",
    "ratings.to_sql(name = 'ratings', con = engine, if_exists = 'append', index = False)\n",
    "production.to_sql(name = 'production', con = engine, if_exists = 'append', index = False)"
   ]
  },
  {
   "cell_type": "code",
   "execution_count": 6,
   "metadata": {
    "hidden": true
   },
   "outputs": [
    {
     "data": {
      "text/plain": [
       "['actor', 'finance', 'genre', 'movie', 'production', 'ratings']"
      ]
     },
     "execution_count": 6,
     "metadata": {},
     "output_type": "execute_result"
    }
   ],
   "source": [
    "engine.table_names()"
   ]
  },
  {
   "cell_type": "code",
   "execution_count": 7,
   "metadata": {
    "hidden": true
   },
   "outputs": [
    {
     "data": {
      "text/html": [
       "<div>\n",
       "<style scoped>\n",
       "    .dataframe tbody tr th:only-of-type {\n",
       "        vertical-align: middle;\n",
       "    }\n",
       "\n",
       "    .dataframe tbody tr th {\n",
       "        vertical-align: top;\n",
       "    }\n",
       "\n",
       "    .dataframe thead th {\n",
       "        text-align: right;\n",
       "    }\n",
       "</style>\n",
       "<table border=\"1\" class=\"dataframe\">\n",
       "  <thead>\n",
       "    <tr style=\"text-align: right;\">\n",
       "      <th></th>\n",
       "      <th>id</th>\n",
       "      <th>title</th>\n",
       "      <th>release_date</th>\n",
       "      <th>overview</th>\n",
       "      <th>runtime</th>\n",
       "      <th>language</th>\n",
       "      <th>imdb_link</th>\n",
       "    </tr>\n",
       "  </thead>\n",
       "  <tbody>\n",
       "    <tr>\n",
       "      <th>0</th>\n",
       "      <td>862</td>\n",
       "      <td>Toy Story</td>\n",
       "      <td>1995-10-30</td>\n",
       "      <td>Led by Woody, Andy's toys live happily in his ...</td>\n",
       "      <td>81.0</td>\n",
       "      <td>en</td>\n",
       "      <td>https://www.imdb.com/title/tt0114709</td>\n",
       "    </tr>\n",
       "    <tr>\n",
       "      <th>1</th>\n",
       "      <td>8844</td>\n",
       "      <td>Jumanji</td>\n",
       "      <td>1995-12-15</td>\n",
       "      <td>When siblings Judy and Peter discover an encha...</td>\n",
       "      <td>104.0</td>\n",
       "      <td>en</td>\n",
       "      <td>https://www.imdb.com/title/tt0113497</td>\n",
       "    </tr>\n",
       "    <tr>\n",
       "      <th>2</th>\n",
       "      <td>15602</td>\n",
       "      <td>Grumpier Old Men</td>\n",
       "      <td>1995-12-22</td>\n",
       "      <td>A family wedding reignites the ancient feud be...</td>\n",
       "      <td>101.0</td>\n",
       "      <td>en</td>\n",
       "      <td>https://www.imdb.com/title/tt0113228</td>\n",
       "    </tr>\n",
       "    <tr>\n",
       "      <th>3</th>\n",
       "      <td>31357</td>\n",
       "      <td>Waiting to Exhale</td>\n",
       "      <td>1995-12-22</td>\n",
       "      <td>Cheated on, mistreated and stepped on, the wom...</td>\n",
       "      <td>127.0</td>\n",
       "      <td>en</td>\n",
       "      <td>https://www.imdb.com/title/tt0114885</td>\n",
       "    </tr>\n",
       "    <tr>\n",
       "      <th>4</th>\n",
       "      <td>11862</td>\n",
       "      <td>Father of the Bride Part II</td>\n",
       "      <td>1995-02-10</td>\n",
       "      <td>Just when George Banks has recovered from his ...</td>\n",
       "      <td>106.0</td>\n",
       "      <td>en</td>\n",
       "      <td>https://www.imdb.com/title/tt0113041</td>\n",
       "    </tr>\n",
       "    <tr>\n",
       "      <th>5</th>\n",
       "      <td>949</td>\n",
       "      <td>Heat</td>\n",
       "      <td>1995-12-15</td>\n",
       "      <td>Obsessive master thief, Neil McCauley leads a ...</td>\n",
       "      <td>170.0</td>\n",
       "      <td>en</td>\n",
       "      <td>https://www.imdb.com/title/tt0113277</td>\n",
       "    </tr>\n",
       "    <tr>\n",
       "      <th>6</th>\n",
       "      <td>11860</td>\n",
       "      <td>Sabrina</td>\n",
       "      <td>1995-12-15</td>\n",
       "      <td>An ugly duckling having undergone a remarkable...</td>\n",
       "      <td>127.0</td>\n",
       "      <td>en</td>\n",
       "      <td>https://www.imdb.com/title/tt0114319</td>\n",
       "    </tr>\n",
       "    <tr>\n",
       "      <th>7</th>\n",
       "      <td>45325</td>\n",
       "      <td>Tom and Huck</td>\n",
       "      <td>1995-12-22</td>\n",
       "      <td>A mischievous young boy, Tom Sawyer, witnesses...</td>\n",
       "      <td>97.0</td>\n",
       "      <td>en</td>\n",
       "      <td>https://www.imdb.com/title/tt0112302</td>\n",
       "    </tr>\n",
       "    <tr>\n",
       "      <th>8</th>\n",
       "      <td>9091</td>\n",
       "      <td>Sudden Death</td>\n",
       "      <td>1995-12-22</td>\n",
       "      <td>International action superstar Jean Claude Van...</td>\n",
       "      <td>106.0</td>\n",
       "      <td>en</td>\n",
       "      <td>https://www.imdb.com/title/tt0114576</td>\n",
       "    </tr>\n",
       "    <tr>\n",
       "      <th>9</th>\n",
       "      <td>710</td>\n",
       "      <td>GoldenEye</td>\n",
       "      <td>1995-11-16</td>\n",
       "      <td>James Bond must unmask the mysterious head of ...</td>\n",
       "      <td>130.0</td>\n",
       "      <td>en</td>\n",
       "      <td>https://www.imdb.com/title/tt0113189</td>\n",
       "    </tr>\n",
       "  </tbody>\n",
       "</table>\n",
       "</div>"
      ],
      "text/plain": [
       "      id                        title release_date  \\\n",
       "0    862                    Toy Story   1995-10-30   \n",
       "1   8844                      Jumanji   1995-12-15   \n",
       "2  15602             Grumpier Old Men   1995-12-22   \n",
       "3  31357            Waiting to Exhale   1995-12-22   \n",
       "4  11862  Father of the Bride Part II   1995-02-10   \n",
       "5    949                         Heat   1995-12-15   \n",
       "6  11860                      Sabrina   1995-12-15   \n",
       "7  45325                 Tom and Huck   1995-12-22   \n",
       "8   9091                 Sudden Death   1995-12-22   \n",
       "9    710                    GoldenEye   1995-11-16   \n",
       "\n",
       "                                            overview  runtime language  \\\n",
       "0  Led by Woody, Andy's toys live happily in his ...     81.0       en   \n",
       "1  When siblings Judy and Peter discover an encha...    104.0       en   \n",
       "2  A family wedding reignites the ancient feud be...    101.0       en   \n",
       "3  Cheated on, mistreated and stepped on, the wom...    127.0       en   \n",
       "4  Just when George Banks has recovered from his ...    106.0       en   \n",
       "5  Obsessive master thief, Neil McCauley leads a ...    170.0       en   \n",
       "6  An ugly duckling having undergone a remarkable...    127.0       en   \n",
       "7  A mischievous young boy, Tom Sawyer, witnesses...     97.0       en   \n",
       "8  International action superstar Jean Claude Van...    106.0       en   \n",
       "9  James Bond must unmask the mysterious head of ...    130.0       en   \n",
       "\n",
       "                              imdb_link  \n",
       "0  https://www.imdb.com/title/tt0114709  \n",
       "1  https://www.imdb.com/title/tt0113497  \n",
       "2  https://www.imdb.com/title/tt0113228  \n",
       "3  https://www.imdb.com/title/tt0114885  \n",
       "4  https://www.imdb.com/title/tt0113041  \n",
       "5  https://www.imdb.com/title/tt0113277  \n",
       "6  https://www.imdb.com/title/tt0114319  \n",
       "7  https://www.imdb.com/title/tt0112302  \n",
       "8  https://www.imdb.com/title/tt0114576  \n",
       "9  https://www.imdb.com/title/tt0113189  "
      ]
     },
     "execution_count": 7,
     "metadata": {},
     "output_type": "execute_result"
    }
   ],
   "source": [
    "pd.read_sql_query('SELECT * \\\n",
    "FROM movie \\\n",
    "LIMIT 10', con = engine)"
   ]
  },
  {
   "cell_type": "code",
   "execution_count": 8,
   "metadata": {
    "hidden": true
   },
   "outputs": [
    {
     "data": {
      "text/html": [
       "<div>\n",
       "<style scoped>\n",
       "    .dataframe tbody tr th:only-of-type {\n",
       "        vertical-align: middle;\n",
       "    }\n",
       "\n",
       "    .dataframe tbody tr th {\n",
       "        vertical-align: top;\n",
       "    }\n",
       "\n",
       "    .dataframe thead th {\n",
       "        text-align: right;\n",
       "    }\n",
       "</style>\n",
       "<table border=\"1\" class=\"dataframe\">\n",
       "  <thead>\n",
       "    <tr style=\"text-align: right;\">\n",
       "      <th></th>\n",
       "      <th>actor_name</th>\n",
       "    </tr>\n",
       "  </thead>\n",
       "  <tbody>\n",
       "    <tr>\n",
       "      <th>0</th>\n",
       "      <td>Russell Crowe</td>\n",
       "    </tr>\n",
       "    <tr>\n",
       "      <th>1</th>\n",
       "      <td>Ed Harris</td>\n",
       "    </tr>\n",
       "    <tr>\n",
       "      <th>2</th>\n",
       "      <td>Jennifer Connelly</td>\n",
       "    </tr>\n",
       "    <tr>\n",
       "      <th>3</th>\n",
       "      <td>Christopher Plummer</td>\n",
       "    </tr>\n",
       "    <tr>\n",
       "      <th>4</th>\n",
       "      <td>Paul Bettany</td>\n",
       "    </tr>\n",
       "  </tbody>\n",
       "</table>\n",
       "</div>"
      ],
      "text/plain": [
       "            actor_name\n",
       "0        Russell Crowe\n",
       "1            Ed Harris\n",
       "2    Jennifer Connelly\n",
       "3  Christopher Plummer\n",
       "4         Paul Bettany"
      ]
     },
     "execution_count": 8,
     "metadata": {},
     "output_type": "execute_result"
    }
   ],
   "source": [
    "pd.read_sql_query(\"SELECT a.name AS actor_name \\\n",
    "FROM movie m \\\n",
    "INNER JOIN actor a ON a.movie_id = m.id \\\n",
    "WHERE m.title = 'Jumanji'\", con = engine).head()"
   ]
  },
  {
   "cell_type": "code",
   "execution_count": 9,
   "metadata": {
    "hidden": true
   },
   "outputs": [
    {
     "data": {
      "text/html": [
       "<div>\n",
       "<style scoped>\n",
       "    .dataframe tbody tr th:only-of-type {\n",
       "        vertical-align: middle;\n",
       "    }\n",
       "\n",
       "    .dataframe tbody tr th {\n",
       "        vertical-align: top;\n",
       "    }\n",
       "\n",
       "    .dataframe thead th {\n",
       "        text-align: right;\n",
       "    }\n",
       "</style>\n",
       "<table border=\"1\" class=\"dataframe\">\n",
       "  <thead>\n",
       "    <tr style=\"text-align: right;\">\n",
       "      <th></th>\n",
       "      <th>genre</th>\n",
       "    </tr>\n",
       "  </thead>\n",
       "  <tbody>\n",
       "    <tr>\n",
       "      <th>0</th>\n",
       "      <td>Drama</td>\n",
       "    </tr>\n",
       "    <tr>\n",
       "      <th>1</th>\n",
       "      <td>Romance</td>\n",
       "    </tr>\n",
       "  </tbody>\n",
       "</table>\n",
       "</div>"
      ],
      "text/plain": [
       "     genre\n",
       "0    Drama\n",
       "1  Romance"
      ]
     },
     "execution_count": 9,
     "metadata": {},
     "output_type": "execute_result"
    }
   ],
   "source": [
    "pd.read_sql_query(\"SELECT g.name as genre FROM movie m INNER JOIN genre g ON g.movie_id = m.id \\\n",
    "WHERE m.title = 'A Beautiful Mind'\", con = engine)"
   ]
  },
  {
   "cell_type": "code",
   "execution_count": 10,
   "metadata": {
    "hidden": true
   },
   "outputs": [
    {
     "data": {
      "text/html": [
       "<div>\n",
       "<style scoped>\n",
       "    .dataframe tbody tr th:only-of-type {\n",
       "        vertical-align: middle;\n",
       "    }\n",
       "\n",
       "    .dataframe tbody tr th {\n",
       "        vertical-align: top;\n",
       "    }\n",
       "\n",
       "    .dataframe thead th {\n",
       "        text-align: right;\n",
       "    }\n",
       "</style>\n",
       "<table border=\"1\" class=\"dataframe\">\n",
       "  <thead>\n",
       "    <tr style=\"text-align: right;\">\n",
       "      <th></th>\n",
       "      <th>title</th>\n",
       "      <th>release_date</th>\n",
       "      <th>budget</th>\n",
       "      <th>revenue</th>\n",
       "      <th>rating</th>\n",
       "    </tr>\n",
       "  </thead>\n",
       "  <tbody>\n",
       "    <tr>\n",
       "      <th>0</th>\n",
       "      <td>A Beautiful Mind</td>\n",
       "      <td>2001-12-11</td>\n",
       "      <td>60000000</td>\n",
       "      <td>313542341.0</td>\n",
       "      <td>3.106415</td>\n",
       "    </tr>\n",
       "  </tbody>\n",
       "</table>\n",
       "</div>"
      ],
      "text/plain": [
       "              title release_date    budget      revenue    rating\n",
       "0  A Beautiful Mind   2001-12-11  60000000  313542341.0  3.106415"
      ]
     },
     "execution_count": 10,
     "metadata": {},
     "output_type": "execute_result"
    }
   ],
   "source": [
    "pd.read_sql_query(\"SELECT m.title, m.release_date, f.budget, f.revenue, r.rating FROM movie m \\\n",
    "INNER JOIN finance f ON f.movie_id = m.id \\\n",
    "INNER JOIN ratings r ON r.movie_id = m.id \\\n",
    "WHERE title = 'A Beautiful Mind'\", con = engine)"
   ]
  },
  {
   "cell_type": "code",
   "execution_count": 11,
   "metadata": {
    "hidden": true
   },
   "outputs": [
    {
     "data": {
      "text/html": [
       "<div>\n",
       "<style scoped>\n",
       "    .dataframe tbody tr th:only-of-type {\n",
       "        vertical-align: middle;\n",
       "    }\n",
       "\n",
       "    .dataframe tbody tr th {\n",
       "        vertical-align: top;\n",
       "    }\n",
       "\n",
       "    .dataframe thead th {\n",
       "        text-align: right;\n",
       "    }\n",
       "</style>\n",
       "<table border=\"1\" class=\"dataframe\">\n",
       "  <thead>\n",
       "    <tr style=\"text-align: right;\">\n",
       "      <th></th>\n",
       "      <th>production_company</th>\n",
       "    </tr>\n",
       "  </thead>\n",
       "  <tbody>\n",
       "    <tr>\n",
       "      <th>0</th>\n",
       "      <td>Imagine Entertainment</td>\n",
       "    </tr>\n",
       "    <tr>\n",
       "      <th>1</th>\n",
       "      <td>DreamWorks SKG</td>\n",
       "    </tr>\n",
       "    <tr>\n",
       "      <th>2</th>\n",
       "      <td>Universal Pictures</td>\n",
       "    </tr>\n",
       "  </tbody>\n",
       "</table>\n",
       "</div>"
      ],
      "text/plain": [
       "      production_company\n",
       "0  Imagine Entertainment\n",
       "1         DreamWorks SKG\n",
       "2     Universal Pictures"
      ]
     },
     "execution_count": 11,
     "metadata": {},
     "output_type": "execute_result"
    }
   ],
   "source": [
    "pd.read_sql_query(\"SELECT p.name AS production_company from movie m \\\n",
    "INNER JOIN production p ON p.movie_id = m.id \\\n",
    "WHERE title = 'A Beautiful Mind'\", con = engine)"
   ]
  },
  {
   "cell_type": "code",
   "execution_count": null,
   "metadata": {
    "hidden": true
   },
   "outputs": [],
   "source": []
  }
 ],
 "metadata": {
  "kernelspec": {
   "display_name": "Python 3",
   "language": "python",
   "name": "python3"
  },
  "language_info": {
   "codemirror_mode": {
    "name": "ipython",
    "version": 3
   },
   "file_extension": ".py",
   "mimetype": "text/x-python",
   "name": "python",
   "nbconvert_exporter": "python",
   "pygments_lexer": "ipython3",
   "version": "3.7.1"
  }
 },
 "nbformat": 4,
 "nbformat_minor": 2
}
